{
 "cells": [
  {
   "cell_type": "markdown",
   "id": "a4fee8fb-38d5-4d3e-b83f-56f9e69193e5",
   "metadata": {},
   "source": [
    "#### Toy demo of full flow for one synthetic person"
   ]
  },
  {
   "cell_type": "code",
   "execution_count": null,
   "id": "b3ff6929-7392-4f1e-915f-eee7095f8cbd",
   "metadata": {},
   "outputs": [],
   "source": [
    "# Toy demo of full flow for one synthetic person\n",
    "from preprocessing import preprocess_text, extract_entities\n",
    "from synthetic_generator import generate_person\n",
    "from extractors import simple_triple_extraction\n",
    "from llm_prompts import refine_triples_with_llm, call_llm\n",
    "from kg_builder import build_kg"
   ]
  },
  {
   "cell_type": "code",
   "execution_count": null,
   "id": "289be310-cff7-4d46-99f5-d65bbbbc4269",
   "metadata": {},
   "outputs": [],
   "source": [
    "doc_text, gt_triples, gt_traits = generate_person(\"Alice\")\n",
    "doc, sents = preprocess_text(doc_text)\n",
    "ents = extract_entities(doc)\n",
    "cand_triples = simple_triple_extraction(doc)"
   ]
  },
  {
   "cell_type": "code",
   "execution_count": null,
   "id": "9f528480-3097-4eab-a81a-426c7975c971",
   "metadata": {},
   "outputs": [],
   "source": [
    "# Call LLM to refine triples (example)\n",
    "llm_result = refine_triples_with_llm(sents[0], cand_triples)\n",
    "# For demo, assume cand_triples accepted\n",
    "G = build_kg(cand_triples, personality_dict={\"Alice\": gt_traits})  # in practice use LLM-inferred traits\n",
    "import networkx as nx\n",
    "nx.write_graphml(G, \"data/output/alice_graph.graphml\")\n",
    "print(\"Saved KG for Alice. GT triples:\", gt_triples, \"Doc:\", doc_text)"
   ]
  },
  {
   "cell_type": "markdown",
   "id": "2d69d1cb-c782-4339-a92d-fb93a4e9fd07",
   "metadata": {},
   "source": []
  },
  {
   "cell_type": "code",
   "execution_count": null,
   "id": "1f9cbfb4-09e5-497f-86b0-268ad19cc2ce",
   "metadata": {},
   "outputs": [],
   "source": []
  },
  {
   "cell_type": "code",
   "execution_count": null,
   "id": "57c7049b-889b-4e0d-8a8b-9fe966f6ff09",
   "metadata": {},
   "outputs": [],
   "source": []
  },
  {
   "cell_type": "code",
   "execution_count": null,
   "id": "9c48af88-f2de-4356-9968-e2fc6018bb7f",
   "metadata": {},
   "outputs": [],
   "source": []
  }
 ],
 "metadata": {
  "kernelspec": {
   "display_name": "Python [conda env:base] *",
   "language": "python",
   "name": "conda-base-py"
  },
  "language_info": {
   "codemirror_mode": {
    "name": "ipython",
    "version": 3
   },
   "file_extension": ".py",
   "mimetype": "text/x-python",
   "name": "python",
   "nbconvert_exporter": "python",
   "pygments_lexer": "ipython3",
   "version": "3.13.5"
  }
 },
 "nbformat": 4,
 "nbformat_minor": 5
}
